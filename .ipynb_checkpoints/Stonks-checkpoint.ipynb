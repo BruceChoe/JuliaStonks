{
 "cells": [
  {
   "cell_type": "code",
   "execution_count": 102,
   "metadata": {},
   "outputs": [
    {
     "name": "stderr",
     "output_type": "stream",
     "text": [
      "\u001b[32m\u001b[1m  Resolving\u001b[22m\u001b[39m package versions...\n",
      "\u001b[32m\u001b[1mNo Changes\u001b[22m\u001b[39m to `C:\\Users\\BruceChoe\\.julia\\environments\\v1.5\\Project.toml`\n",
      "\u001b[32m\u001b[1mNo Changes\u001b[22m\u001b[39m to `C:\\Users\\BruceChoe\\.julia\\environments\\v1.5\\Manifest.toml`\n",
      "\u001b[32m\u001b[1m  Resolving\u001b[22m\u001b[39m package versions...\n",
      "\u001b[32m\u001b[1m  Installed\u001b[22m\u001b[39m Missings ───────── v0.4.4\n",
      "\u001b[32m\u001b[1m  Installed\u001b[22m\u001b[39m TableTraitsUtils ─ v1.0.1\n",
      "\u001b[32m\u001b[1m  Installed\u001b[22m\u001b[39m Requires ───────── v1.1.2\n",
      "\u001b[32m\u001b[1m  Installed\u001b[22m\u001b[39m IterableTables ─── v1.0.0\n",
      "\u001b[32m\u001b[1m  Installed\u001b[22m\u001b[39m DataValues ─────── v0.4.13\n",
      "\u001b[32m\u001b[1mUpdating\u001b[22m\u001b[39m `C:\\Users\\BruceChoe\\.julia\\environments\\v1.5\\Project.toml`\n",
      " \u001b[90m [1c8ee90f] \u001b[39m\u001b[92m+ IterableTables v1.0.0\u001b[39m\n",
      "\u001b[32m\u001b[1mUpdating\u001b[22m\u001b[39m `C:\\Users\\BruceChoe\\.julia\\environments\\v1.5\\Manifest.toml`\n",
      " \u001b[90m [e7dc6d0d] \u001b[39m\u001b[92m+ DataValues v0.4.13\u001b[39m\n",
      " \u001b[90m [1c8ee90f] \u001b[39m\u001b[92m+ IterableTables v1.0.0\u001b[39m\n",
      " \u001b[90m [e1d29d7a] \u001b[39m\u001b[92m+ Missings v0.4.4\u001b[39m\n",
      " \u001b[90m [ae029012] \u001b[39m\u001b[92m+ Requires v1.1.2\u001b[39m\n",
      " \u001b[90m [382cd787] \u001b[39m\u001b[92m+ TableTraitsUtils v1.0.1\u001b[39m\n",
      "┌ Info: Precompiling IterableTables [1c8ee90f-4401-5389-894e-7a04a3dc0f4d]\n",
      "└ @ Base loading.jl:1278\n"
     ]
    }
   ],
   "source": [
    "# Pkg management\n",
    "using Pkg\n",
    "Pkg.add(\"MarketData\")\n",
    "Pkg.add(\"IterableTables\")\n",
    "using MarketData\n",
    "using IterableTables"
   ]
  },
  {
   "cell_type": "code",
   "execution_count": 117,
   "metadata": {},
   "outputs": [
    {
     "name": "stdout",
     "output_type": "stream",
     "text": [
      "344×6 TimeArray{Float64,2,Date,Array{Float64,2}} 1992-05-01 to 2020-12-01\n",
      "│            │ Open  │ High  │ Low   │ Close │ AdjClose │ Volume │\n",
      "├────────────┼───────┼───────┼───────┼───────┼──────────┼────────┤\n",
      "│ 1992-05-01 │ 10.0  │ 10.03 │ 9.9   │ 9.93  │ 2.8271   │ 0.0    │\n",
      "│ 1992-06-01 │ 9.95  │ 10.07 │ 9.91  │ 10.07 │ 2.867    │ 0.0    │\n",
      "│ 1992-07-01 │ 10.12 │ 10.7  │ 10.12 │ 10.7  │ 3.0464   │ 0.0    │\n",
      "│ 1992-08-01 │ 10.69 │ 10.81 │ 10.65 │ 10.73 │ 3.0549   │ 0.0    │\n",
      "│ 1992-09-01 │ 10.77 │ 10.83 │ 10.6  │ 10.71 │ 3.0492   │ 0.0    │\n",
      "│ 1992-10-01 │ 10.7  │ 10.7  │ 10.49 │ 10.63 │ 3.0609   │ 0.0    │\n",
      "│ 1992-11-01 │ 10.66 │ 10.73 │ 10.42 │ 10.72 │ 3.0868   │ 0.0    │\n",
      "│ 1992-12-01 │ 10.71 │ 11.15 │ 10.68 │ 10.95 │ 3.153    │ 0.0    │\n",
      "│ 1993-01-01 │ 10.96 │ 11.2  │ 10.84 │ 11.18 │ 3.2545   │ 0.0    │\n",
      "│ 1993-02-01 │ 11.26 │ 11.83 │ 11.26 │ 11.83 │ 3.4437   │ 0.0    │\n",
      "│ 1993-03-01 │ 11.82 │ 11.94 │ 11.72 │ 11.86 │ 3.4525   │ 0.0    │\n",
      "│ 1993-04-01 │ 11.85 │ 12.09 │ 11.74 │ 11.76 │ 3.4731   │ 0.0    │\n",
      "   ⋮\n",
      "│ 2020-02-01 │ 30.86 │ 31.9  │ 28.08 │ 28.08 │ 27.8313  │ 0.0    │\n",
      "│ 2020-03-01 │ 29.28 │ 29.97 │ 21.38 │ 25.25 │ 25.0263  │ 0.0    │\n",
      "│ 2020-04-01 │ 24.22 │ 27.83 │ 24.22 │ 27.49 │ 27.2753  │ 0.0    │\n",
      "│ 2020-05-01 │ 26.92 │ 28.72 │ 26.43 │ 28.67 │ 28.446   │ 0.0    │\n",
      "│ 2020-06-01 │ 28.7  │ 30.29 │ 27.6  │ 28.34 │ 28.1186  │ 0.0    │\n",
      "│ 2020-07-01 │ 28.46 │ 29.84 │ 28.3  │ 29.59 │ 29.59    │ 0.0    │\n",
      "│ 2020-08-01 │ 29.65 │ 31.51 │ 29.65 │ 31.32 │ 31.32    │ 0.0    │\n",
      "│ 2020-09-01 │ 31.4  │ 31.99 │ 30.32 │ 31.14 │ 31.14    │ 0.0    │\n",
      "│ 2020-10-01 │ 31.12 │ 32.23 │ 29.93 │ 29.93 │ 29.93    │ 0.0    │\n",
      "│ 2020-11-01 │ 30.44 │ 33.37 │ 30.44 │ 33.12 │ 33.12    │ 0.0    │\n",
      "│ 2020-12-01 │ 33.36 │ 33.72 │ 33.12 │ 33.69 │ 33.69    │ 0.0    │"
     ]
    },
    {
     "data": {
      "text/plain": [
       "343×1 TimeArray{Float64,1,Date,Array{Float64,1}} 1992-06-01 to 2020-12-01\n",
       "│            │ AdjClose │\n",
       "├────────────┼──────────┤\n",
       "│ 1992-06-01 │ 1.4099   │\n",
       "│ 1992-07-01 │ 6.2562   │\n",
       "│ 1992-08-01 │ 0.2804   │\n",
       "│ 1992-09-01 │ -0.1864  │\n",
       "│ 1992-10-01 │ 0.382    │\n",
       "│ 1992-11-01 │ 0.8467   │\n",
       "│ 1992-12-01 │ 2.1455   │\n",
       "│ 1993-01-01 │ 3.2194   │\n",
       "│ 1993-02-01 │ 5.8139   │\n",
       "│ 1993-03-01 │ 0.2536   │\n",
       "│ 1993-04-01 │ 0.5963   │\n",
       "│ 1993-05-01 │ 0.085    │\n",
       "   ⋮\n",
       "│ 2020-02-01 │ -8.3252  │\n",
       "│ 2020-03-01 │ -10.0784 │\n",
       "│ 2020-04-01 │ 8.9863   │\n",
       "│ 2020-05-01 │ 4.2925   │\n",
       "│ 2020-06-01 │ -1.151   │\n",
       "│ 2020-07-01 │ 5.2327   │\n",
       "│ 2020-08-01 │ 5.8466   │\n",
       "│ 2020-09-01 │ -0.5747  │\n",
       "│ 2020-10-01 │ -3.8857  │\n",
       "│ 2020-11-01 │ 10.6582  │\n",
       "│ 2020-12-01 │ 1.721    │"
      ]
     },
     "execution_count": 117,
     "metadata": {},
     "output_type": "execute_result"
    }
   ],
   "source": [
    "#= \n",
    "Calculating Equity Risk Premium:\n",
    "    1. Estimate the expected return on stocks\n",
    "    2. Estimate the expected return on risk-free bonds\n",
    "    3. Subtract the difference to get the equity risk premium.\n",
    "=#\n",
    "\n",
    "#1. Estimate return on growth stocks, earnings approach\n",
    "#start = DateTime(2020, 6, 24)\n",
    "#vdigx = yahoo(\"VDIGX\", YahooOpt(period1 = start))\n",
    "\n",
    "vdigx = yahoo(\"VDIGX\", YahooOpt(interval = \"1mo\"))\n",
    "#println(\"VDIGX DATA:\")\n",
    "show(stdout, MIME(\"text/plain\"), vdigx)\n",
    "\n",
    "vfinx = yahoo(\"VFINX\", YahooOpt(interval = \"1mo\"))\n",
    "#println(\"\\nVFINX DATA:\")\n",
    "#show(stdout, MIME(\"text/plain\"), vfinx)\n",
    "\n",
    "percentchange(vdigx[\"AdjClose\"]) .* 100\n",
    "#percentchange(vfinx[\"AdjClose\"])"
   ]
  },
  {
   "cell_type": "code",
   "execution_count": 96,
   "metadata": {},
   "outputs": [
    {
     "name": "stdout",
     "output_type": "stream",
     "text": [
      "1043×1 TimeArray{Float64,1,Date,Array{Float64,1}} 1934-01-01 to 2020-11-01\n",
      "│            │ VALUE │\n",
      "├────────────┼───────┤\n",
      "│ 1934-01-01 │ 0.72  │\n",
      "│ 1934-02-01 │ 0.62  │\n",
      "│ 1934-03-01 │ 0.24  │\n",
      "│ 1934-04-01 │ 0.15  │\n",
      "│ 1934-05-01 │ 0.16  │\n",
      "│ 1934-06-01 │ 0.15  │\n",
      "│ 1934-07-01 │ 0.15  │\n",
      "│ 1934-08-01 │ 0.19  │\n",
      "│ 1934-09-01 │ 0.21  │\n",
      "│ 1934-10-01 │ 0.27  │\n",
      "│ 1934-11-01 │ 0.25  │\n",
      "│ 1934-12-01 │ 0.23  │\n",
      "   ⋮\n",
      "│ 2020-01-01 │ 1.52  │\n",
      "│ 2020-02-01 │ 1.52  │\n",
      "│ 2020-03-01 │ 0.29  │\n",
      "│ 2020-04-01 │ 0.14  │\n",
      "│ 2020-05-01 │ 0.13  │\n",
      "│ 2020-06-01 │ 0.16  │\n",
      "│ 2020-07-01 │ 0.13  │\n",
      "│ 2020-08-01 │ 0.1   │\n",
      "│ 2020-09-01 │ 0.11  │\n",
      "│ 2020-10-01 │ 0.1   │\n",
      "│ 2020-11-01 │ 0.09  │"
     ]
    }
   ],
   "source": [
    "#2. Estimate return on risk-free bonds. \n",
    "tb3ms = fred(\"TB3MS\")\n",
    "#println(\"\\nTB3MS DATA:\")\n",
    "show(stdout, MIME(\"text/plain\"), tb3ms)"
   ]
  },
  {
   "cell_type": "code",
   "execution_count": null,
   "metadata": {},
   "outputs": [],
   "source": []
  }
 ],
 "metadata": {
  "kernelspec": {
   "display_name": "Julia 1.5.3",
   "language": "julia",
   "name": "julia-1.5"
  },
  "language_info": {
   "file_extension": ".jl",
   "mimetype": "application/julia",
   "name": "julia",
   "version": "1.5.3"
  }
 },
 "nbformat": 4,
 "nbformat_minor": 4
}
